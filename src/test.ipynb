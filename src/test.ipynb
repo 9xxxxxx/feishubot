{
 "cells": [
  {
   "metadata": {
    "ExecuteTime": {
     "end_time": "2025-01-16T01:09:37.069180Z",
     "start_time": "2025-01-16T01:09:36.686315Z"
    }
   },
   "cell_type": "code",
   "source": [
    "import json\n",
    "\n",
    "import requests\n",
    "\n",
    "from src.asbot import AsBot\n",
    "\n",
    "msg = {\n",
    "  \"msg_type\": \"post\",\n",
    "  \"content\": {\n",
    "    \"post\": {\n",
    "      \"zh-CN\": {\n",
    "        \"title\": \"富文本消息测试！\",\n",
    "        \"content\": [\n",
    "          [\n",
    "            {\n",
    "              \"tag\": \"text\",\n",
    "              \"text\": \"你的小可爱上线了！\"\n",
    "            },\n",
    "            {\n",
    "              \"tag\": \"a\",\n",
    "              \"text\": \"点击查看\",\n",
    "              \"href\": \"https://sspai.com/u/100gle/updates\"\n",
    "            }\n",
    "          ]\n",
    "        ]\n",
    "      }\n",
    "    }\n",
    "  }\n",
    "}\n",
    "url = 'https://open.feishu.cn/open-apis/bot/v2/hook/559dbd3d-878d-45de-ba06-b0fcdf63b6f8'\n",
    "rs = requests.post(url, json=msg)\n",
    "# print(json.dumps(msg))"
   ],
   "id": "3c07ed5d7306d728",
   "outputs": [],
   "execution_count": 8
  },
  {
   "metadata": {
    "ExecuteTime": {
     "end_time": "2025-01-16T01:14:03.799416Z",
     "start_time": "2025-01-16T01:14:03.190188Z"
    }
   },
   "cell_type": "code",
   "source": "",
   "id": "ece8a6c6ee350df",
   "outputs": [
    {
     "name": "stderr",
     "output_type": "stream",
     "text": [
      "2025-01-16 09:14:03,342 - INFO - 成功获取bearer token\n",
      "2025-01-16 09:14:03,562 - INFO - 成功获取人机的chat_id\n"
     ]
    },
    {
     "name": "stdout",
     "output_type": "stream",
     "text": [
      "dawdaawd\n",
      "b'{\"code\":230001,\"msg\":\"Your request contains an invalid request parameter, ext=invalid message content.\",\"error\":{\"log_id\":\"202501160914011091BCCD60FE7E229909\",\"troubleshooter\":\"\\xe6\\x8e\\x92\\xe6\\x9f\\xa5\\xe5\\xbb\\xba\\xe8\\xae\\xae\\xe6\\x9f\\xa5\\xe7\\x9c\\x8b(Troubleshooting suggestions): https://open.feishu.cn/search?from=openapi&log_id=202501160914011091BCCD60FE7E229909&code=230001&method_id=6936075528891154460\"}}'\n"
     ]
    }
   ],
   "execution_count": 14
  }
 ],
 "metadata": {
  "kernelspec": {
   "display_name": "Python 3",
   "language": "python",
   "name": "python3"
  },
  "language_info": {
   "codemirror_mode": {
    "name": "ipython",
    "version": 2
   },
   "file_extension": ".py",
   "mimetype": "text/x-python",
   "name": "python",
   "nbconvert_exporter": "python",
   "pygments_lexer": "ipython2",
   "version": "2.7.6"
  }
 },
 "nbformat": 4,
 "nbformat_minor": 5
}
