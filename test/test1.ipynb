{
 "cells": [
  {
   "cell_type": "code",
   "id": "initial_id",
   "metadata": {
    "collapsed": true
   },
   "source": [
    "\n",
    "from bs4 import BeautifulSoup\n",
    "from sqlalchemy import false\n",
    "from statsmodels.sandbox.regression.ols_anova_original import dropn\n",
    "\n",
    "vl = []\n",
    "with open(\"E:\\Dev\\TrainingGround\\飞书卡片搭建工具.html\",'r',encoding='utf8') as f:\n",
    "    soup = BeautifulSoup(f,'lxml')\n",
    "    div = soup.find_all('span',style='word-break: break-all;')\n",
    "    \n",
    "    for i in div:\n",
    "        for j in i.children:\n",
    "         if j.text not in  ['\\xa0','(标题)','(循环容器生成的变量)'] :\n",
    "            vl.append(j.text)\n",
    "with open('vl.txt','w',encoding='utf8') as f:\n",
    "    for i in vl:\n",
    "        f.write(i.replace(u'\\xa0', '').strip()+'\\n')\n",
    "    \n",
    "print(vl)\n",
    "\n",
    "            "
   ],
   "outputs": [],
   "execution_count": null
  },
  {
   "metadata": {},
   "cell_type": "code",
   "source": [
    "import pandas as pd\n",
    "df =pd.read_excel(r\"C:\\Users\\garry\\Downloads\\电机部1月份数据.xlsx\")\n",
    "x = df.to_json(orient='records',force_ascii=False)\n",
    "x = x.replace('报废原因大类','scrapped_reason')\n",
    "x = x.replace('物料名称','material_name')\n",
    "x = x.replace('实发数量','actual_quantity')\n",
    "x = x.replace('产品品类','product_type')\n",
    "x = x.replace('占比','proportion')\n",
    "x = x.replace('null','\"-\"')\n",
    "x\n",
    "\n",
    "\n"
   ],
   "id": "f319d53b67072e78",
   "outputs": [],
   "execution_count": null
  },
  {
   "metadata": {},
   "cell_type": "code",
   "source": [
    "import pandas as pd\n",
    "df =pd.read_excel(r\"C:\\Users\\garry\\Downloads\\电机部1月份数据.xlsx\")\n",
    "df = df.head(5)\n",
    "df = df.drop('日期',axis=1)\n",
    "x = df.to_json(orient='records',force_ascii=False)\n",
    "x = x.replace('作业描述','work_desc')\n",
    "x = x.replace('数量','amount')\n",
    "x = x.replace('人员','workers')\n",
    "x = x.replace('合计工时','total_workhours')\n",
    "x = x.replace('异常分类','exceptions')\n",
    "x = x.replace('责任部门','apartments')\n",
    "x = x.replace('备注','remark')\n",
    "x = x.replace('null','\"-\"')\n",
    "x"
   ],
   "id": "eb1a2e587d8a82a2",
   "outputs": [],
   "execution_count": null
  },
  {
   "metadata": {
    "ExecuteTime": {
     "end_time": "2025-03-13T01:56:37.749737Z",
     "start_time": "2025-03-13T01:56:36.736246Z"
    }
   },
   "cell_type": "code",
   "source": [
    "import pandas as pd\n",
    "df = pd.read_excel(r\"E:\\Dev\\AS_Bot\\asbot\\15deal.xlsx\")\n",
    "data = df\n",
    "data['单号唯一值数量'] = df.groupby('取件物流单号')['单号'].transform('nunique')\n",
    "result = data[data['单号唯一值数量'] > 1]\n"
   ],
   "id": "312fb7ab245080e",
   "outputs": [],
   "execution_count": 19
  }
 ],
 "metadata": {
  "kernelspec": {
   "display_name": "Python 3",
   "language": "python",
   "name": "python3"
  },
  "language_info": {
   "codemirror_mode": {
    "name": "ipython",
    "version": 2
   },
   "file_extension": ".py",
   "mimetype": "text/x-python",
   "name": "python",
   "nbconvert_exporter": "python",
   "pygments_lexer": "ipython2",
   "version": "2.7.6"
  }
 },
 "nbformat": 4,
 "nbformat_minor": 5
}
